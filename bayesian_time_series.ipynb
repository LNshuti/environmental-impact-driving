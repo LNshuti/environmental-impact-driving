{
 "cells": [
  {
   "cell_type": "code",
   "execution_count": 10,
   "id": "ac400e86",
   "metadata": {},
   "outputs": [],
   "source": [
    "import pandas as pd\n",
    "import os\n",
    "import pyreadr"
   ]
  },
  {
   "cell_type": "code",
   "execution_count": 29,
   "id": "acd8aa94",
   "metadata": {},
   "outputs": [],
   "source": [
    "trade_df = pyreadr.read_r(\"../dataverse_files/rwa_summary.rds\")\n",
    "#df = pd.DataFrame(trade_df.values(), columns=(\"rownum\",\"name\", \"year\", \"location_id\", \"partner_id\", \"product_id\", \n",
    "                                    # \"imports\", \"exports\", \"len_name\",  \"rank\"))"
   ]
  },
  {
   "cell_type": "code",
   "execution_count": 36,
   "id": "a2af1025",
   "metadata": {},
   "outputs": [
    {
     "ename": "SyntaxError",
     "evalue": "invalid syntax (224562066.py, line 1)",
     "output_type": "error",
     "traceback": [
      "\u001b[0;36m  Input \u001b[0;32mIn [36]\u001b[0;36m\u001b[0m\n\u001b[0;31m    trade_df.class\u001b[0m\n\u001b[0m             ^\u001b[0m\n\u001b[0;31mSyntaxError\u001b[0m\u001b[0;31m:\u001b[0m invalid syntax\n"
     ]
    }
   ],
   "source": [
    "trade_df.class"
   ]
  },
  {
   "cell_type": "code",
   "execution_count": 9,
   "id": "e5279772",
   "metadata": {},
   "outputs": [],
   "source": []
  },
  {
   "cell_type": "code",
   "execution_count": null,
   "id": "e577f7f7",
   "metadata": {},
   "outputs": [],
   "source": [
    "trade_df[\"date_month\"] = pd.to_datetime(trade_df[\"date_month\"])\n",
    "trade_df[\"CO2\"] = trade_df[\"CO2\"].astype(np.float32)\n",
    "trade_df.set_index(\"date_month\", drop=True, inplace=True)\n",
    "\n",
    "num_forecast_steps = 12 * 10  # Forecast the final ten years, given previous data\n",
    "co2_by_month_training_data = co2_by_month[:-num_forecast_steps]\n",
    "co2_by_month_testing_data = co2_by_month[-num_forecast_steps:]"
   ]
  }
 ],
 "metadata": {
  "kernelspec": {
   "display_name": "Python 3 (ipykernel)",
   "language": "python",
   "name": "python3"
  },
  "language_info": {
   "codemirror_mode": {
    "name": "ipython",
    "version": 3
   },
   "file_extension": ".py",
   "mimetype": "text/x-python",
   "name": "python",
   "nbconvert_exporter": "python",
   "pygments_lexer": "ipython3",
   "version": "3.8.10"
  }
 },
 "nbformat": 4,
 "nbformat_minor": 5
}
